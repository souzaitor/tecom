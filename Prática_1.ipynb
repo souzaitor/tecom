{
  "nbformat": 4,
  "nbformat_minor": 0,
  "metadata": {
    "colab": {
      "name": "Prática 1.ipynb",
      "provenance": [],
      "authorship_tag": "ABX9TyPyamukmf1Pl7VsTmdyh8Mx",
      "include_colab_link": true
    },
    "kernelspec": {
      "name": "python3",
      "display_name": "Python 3"
    },
    "language_info": {
      "name": "python"
    }
  },
  "cells": [
    {
      "cell_type": "markdown",
      "metadata": {
        "id": "view-in-github",
        "colab_type": "text"
      },
      "source": [
        "<a href=\"https://colab.research.google.com/github/souzaitor/tecom/blob/main/Pr%C3%A1tica_1.ipynb\" target=\"_parent\"><img src=\"https://colab.research.google.com/assets/colab-badge.svg\" alt=\"Open In Colab\"/></a>"
      ]
    },
    {
      "cell_type": "markdown",
      "source": [
        "# Prática 1"
      ],
      "metadata": {
        "id": "vZN6YWSJB1Ap"
      }
    },
    {
      "cell_type": "markdown",
      "source": [
        "\n",
        "Deixe a frequência de amostragem f_s como um parâmetro do seu código. Faça testes com f_s = 44100 Hz.\n"
      ],
      "metadata": {
        "id": "sX-nrmZ6BJp8"
      }
    },
    {
      "cell_type": "markdown",
      "source": [
        "1. Faça um código que receba uma sequência de bits, module-os em FSK de acordo com o padrão V.21 (https://www.itu.int/rec/dologin_pub.asp?lang=e&id=T-REC-V.21-198811-I!!PDF-E&type=items) e mostre um gráfico do sinal gerado."
      ],
      "metadata": {
        "id": "ylGhFRNzBNwz"
      }
    },
    {
      "cell_type": "code",
      "source": [
        ""
      ],
      "metadata": {
        "id": "yWKitUqvD2Zp"
      },
      "execution_count": null,
      "outputs": []
    },
    {
      "cell_type": "markdown",
      "source": [
        "2. Faça um código que receba um sinal e demodule o FSK utilizando o método descrito na seção 20.3.4 do livro do Tretter (https://user.eng.umd.edu/~tretter/commlab/c6713slides/AdditionalExperiments.pdf#page=30)\n"
      ],
      "metadata": {
        "id": "kViDfDwUBlRm"
      }
    },
    {
      "cell_type": "code",
      "source": [
        ""
      ],
      "metadata": {
        "id": "wj0szyVsD23o"
      },
      "execution_count": null,
      "outputs": []
    },
    {
      "cell_type": "markdown",
      "source": [
        "3. Introduza ruído AWGN no sinal modulado e verifique quantos bits são corrompidos para cada nível de ruído. Veja exemplos em https://colab.research.google.com/github/varun19299/ID4100-Wireless-Lab-IITM/blob/notebooks/7-ber-awgn.ipynb"
      ],
      "metadata": {
        "id": "Y1fG7EoiBpwD"
      }
    },
    {
      "cell_type": "code",
      "source": [
        ""
      ],
      "metadata": {
        "id": "JzqItIfUD4Tp"
      },
      "execution_count": null,
      "outputs": []
    },
    {
      "cell_type": "markdown",
      "source": [
        "4. Introduza um drift entre relógios do transmissor e receptor e verifique se o seu demodulador continua funcionando. Veja a Página 467 do livro do Schwarzinger:"
      ],
      "metadata": {
        "id": "NExclqQIBwYW"
      }
    },
    {
      "cell_type": "code",
      "source": [
        ""
      ],
      "metadata": {
        "id": "MAMlsTa8Bvht"
      },
      "execution_count": null,
      "outputs": []
    }
  ]
}